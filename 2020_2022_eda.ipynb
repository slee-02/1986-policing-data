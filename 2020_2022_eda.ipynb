{
 "cells": [
  {
   "cell_type": "code",
   "execution_count": null,
   "metadata": {},
   "outputs": [],
   "source": []
  }
 ],
 "metadata": {
  "kernelspec": {
   "display_name": "base",
   "language": "python",
   "name": "python3"
  },
  "language_info": {
   "name": "python",
   "version": "3.9.15"
  },
  "orig_nbformat": 4,
  "vscode": {
   "interpreter": {
    "hash": "57628bd7b30be717ddf5fb05a81a4af65f7722553ad701187253afc7f8a6f58e"
   }
  }
 },
 "nbformat": 4,
 "nbformat_minor": 2
}
