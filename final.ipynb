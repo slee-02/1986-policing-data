{
 "cells": [
  {
   "cell_type": "code",
   "execution_count": null,
   "metadata": {},
   "outputs": [],
   "source": [
    "# 라이브러리 로드\n",
    "\n",
    "# 기본\n",
    "import pandas as pd\n",
    "import numpy as np\n",
    "\n",
    "# API 용\n",
    "import requests, json\n",
    "import config\n",
    "\n",
    "# 시각화\n",
    "import seaborn as sns\n",
    "import plotly.express as px\n",
    "import matplotlib.pyplot as plt\n",
    "import koreanize_matplotlib\n",
    "\n",
    "# 지도 시각화\n",
    "import folium\n",
    "from folium.plugins import MarkerCluster"
   ]
  },
  {
   "cell_type": "code",
   "execution_count": null,
   "metadata": {},
   "outputs": [],
   "source": [
    "# 그래프에 retina display 적용\n",
    "%config InlineBackend.figure_format = 'retina'"
   ]
  },
  {
   "attachments": {},
   "cell_type": "markdown",
   "metadata": {},
   "source": [
    "# 기본 데이터 전처리"
   ]
  },
  {
   "attachments": {},
   "cell_type": "markdown",
   "metadata": {},
   "source": [
    "## 기본 데이터 불러오기"
   ]
  },
  {
   "cell_type": "code",
   "execution_count": null,
   "metadata": {},
   "outputs": [],
   "source": [
    "file_path = \"./data/\"\n",
    "df_kp20 = pd.read_csv(f\"{file_path}KP2020.csv\", encoding=\"cp949\")\n",
    "df_kp21 = pd.read_csv(f\"{file_path}KP2021.csv\", encoding=\"cp949\")\n",
    "df_npa20 = pd.read_csv(f\"{file_path}NPA2020.csv\", encoding=\"cp949\")"
   ]
  },
  {
   "attachments": {},
   "cell_type": "markdown",
   "metadata": {},
   "source": [
    "### KP 데이터 확인, 병합 및 전처리"
   ]
  },
  {
   "attachments": {},
   "cell_type": "markdown",
   "metadata": {},
   "source": [
    "변수 정리\n",
    "   \n",
    "RECV_DEPT_NM : 접수 부서 이름   \n",
    "RECV_CPLT_DM : 접수 완료 날짜, 시간   \n",
    "NPA_CL : 경찰철 코드   \n",
    "EVT_STAT_CD\t: 사건 상태 코드   \n",
    "EVT_CL_CD : 사건 종별 코드   \n",
    "RPTER_SEX : 신고자 성별   \n",
    "HPPN_PNU_ADDR : 발생 주소   \n",
    "HPPN_X : 위도   \n",
    "HPPN_Y : 경도   \n",
    "SME_EVT_YN : 동일 사건 여부"
   ]
  },
  {
   "cell_type": "code",
   "execution_count": null,
   "metadata": {},
   "outputs": [],
   "source": [
    "df_kp20.shape, df_kp21.shape"
   ]
  },
  {
   "cell_type": "code",
   "execution_count": null,
   "metadata": {},
   "outputs": [],
   "source": [
    "display(df_kp20.head(), df_kp21.head())"
   ]
  },
  {
   "cell_type": "code",
   "execution_count": null,
   "metadata": {},
   "outputs": [],
   "source": [
    "# kp 데이터셋 병합\n",
    "df_kp = pd.concat([df_kp20, df_kp21], ignore_index=True)"
   ]
  },
  {
   "cell_type": "code",
   "execution_count": null,
   "metadata": {},
   "outputs": [],
   "source": [
    "# 병합 잘 되었는지 확인\n",
    "print(df_kp.shape, df_kp20.shape[0] + df_kp21.shape[0])\n",
    "df_kp"
   ]
  },
  {
   "cell_type": "code",
   "execution_count": null,
   "metadata": {},
   "outputs": [],
   "source": [
    "# 날짜 시간 데이터 전처리\n",
    "df_kp['RECV_CPLT_DM'] = df_kp['RECV_CPLT_DM'].str.split('.').str[0]\n",
    "df_kp['RECV_CPLT_DM'] = pd.to_datetime(df_kp['RECV_CPLT_DM'], format=\"%y/%m/%d %H:%M:%S\")\n",
    "\n",
    "# 확인하기\n",
    "df_kp[\"RECV_CPLT_DM\"].head(1)"
   ]
  },
  {
   "cell_type": "code",
   "execution_count": null,
   "metadata": {},
   "outputs": [],
   "source": [
    "# 컬럼명 변경\n",
    "df_kp = df_kp.rename(columns={'HPPN_PNU_ADDR':'HPPN_ADDR'})"
   ]
  },
  {
   "attachments": {},
   "cell_type": "markdown",
   "metadata": {},
   "source": [
    "### NPA 데이터 확인 및 전처리"
   ]
  },
  {
   "attachments": {},
   "cell_type": "markdown",
   "metadata": {},
   "source": [
    "변수 정리\n",
    "   \n",
    "RECV_CPLT_DT : 접수 완료 날짜   \n",
    "RECV_CPLT_TM : 접수 완료 시간   \n",
    "NPA_CL : 경찰청 코드   \n",
    "EVT_STAT_CD : 사건 상태 코드   \n",
    "EVT_CL_CD : 사건 종별 코드   \n",
    "RPTER_SEX : 신고자 성별   \n",
    "HPPN_OLD_ADDR : 발생 주소   \n",
    "HPPN_X : 위도   \n",
    "HPPN_Y : 경도   \n",
    "SME_EVT_YN : 동일 사건 여부   "
   ]
  },
  {
   "cell_type": "code",
   "execution_count": null,
   "metadata": {},
   "outputs": [],
   "source": [
    "df_npa20.shape"
   ]
  },
  {
   "cell_type": "code",
   "execution_count": null,
   "metadata": {},
   "outputs": [],
   "source": [
    "df_npa20.head()"
   ]
  },
  {
   "cell_type": "code",
   "execution_count": null,
   "metadata": {},
   "outputs": [],
   "source": [
    "# 시간데이터 전처리\n",
    "df_npa20[\"RECV_CPLT_TM\"] = df_npa20[\"RECV_CPLT_TM\"].astype('str')\n",
    "df_npa20[\"RECV_CPLT_TM\"] = df_npa20[\"RECV_CPLT_TM\"].str.rjust(width=6, fillchar='0')\n",
    "\n",
    "# 확인하기\n",
    "df_npa20.head(1)"
   ]
  },
  {
   "cell_type": "code",
   "execution_count": null,
   "metadata": {},
   "outputs": [],
   "source": [
    "# RECV_CPLT_DM (날짜 + 시간) 파생변수 생성\n",
    "df_npa20['RECV_CPLT_DM'] = df_npa20['RECV_CPLT_DT'].astype('str') + df_npa20['RECV_CPLT_TM'].astype('str')\n",
    "df_npa20['RECV_CPLT_DM'] = pd.to_datetime(df_npa20['RECV_CPLT_DM'])\n",
    "\n",
    "# 확인하기\n",
    "df_npa20['RECV_CPLT_DM'].head(1)"
   ]
  },
  {
   "cell_type": "code",
   "execution_count": null,
   "metadata": {},
   "outputs": [],
   "source": [
    "# 필요없는 데이터 삭제\n",
    "df_npa20 = df_npa20.drop(labels=['RECV_CPLT_DT', 'RECV_CPLT_TM'], axis=1)"
   ]
  },
  {
   "cell_type": "code",
   "execution_count": null,
   "metadata": {},
   "outputs": [],
   "source": [
    "# 경찰청 코드 변환하기\n",
    "df_npa20['NPA_CL'].value_counts()\n",
    "df_npa20['RECV_DEPT_NM'] = ['대전청' if x == 13 else '충남청' for x in df_npa20['NPA_CL']]"
   ]
  },
  {
   "cell_type": "code",
   "execution_count": null,
   "metadata": {},
   "outputs": [],
   "source": [
    "# KP데이터에 맞춰서 컬럼명 변경\n",
    "df_npa20 = df_npa20.rename(columns={'HPPN_OLD_ADDR':'HPPN_ADDR'})"
   ]
  },
  {
   "attachments": {},
   "cell_type": "markdown",
   "metadata": {},
   "source": [
    "## KP, NPA 데이터 병합"
   ]
  },
  {
   "cell_type": "code",
   "execution_count": null,
   "metadata": {},
   "outputs": [],
   "source": [
    "# shape 값 확인하기\n",
    "df_npa20.shape, df_kp.shape"
   ]
  },
  {
   "cell_type": "code",
   "execution_count": null,
   "metadata": {},
   "outputs": [],
   "source": [
    "# 병합하기\n",
    "df = pd.concat([df_kp, df_npa20], ignore_index=True)\n",
    "\n",
    "# 확인하기\n",
    "print(df.shape)\n",
    "df.head()"
   ]
  },
  {
   "cell_type": "code",
   "execution_count": null,
   "metadata": {},
   "outputs": [],
   "source": [
    "# 중복 삭제\n",
    "df = df.drop_duplicates()\n",
    "\n",
    "# 확인하기\n",
    "df.shape"
   ]
  },
  {
   "attachments": {},
   "cell_type": "markdown",
   "metadata": {},
   "source": [
    "## 코드 데이터 변환"
   ]
  },
  {
   "cell_type": "code",
   "execution_count": null,
   "metadata": {},
   "outputs": [],
   "source": [
    "# 코드북 엑셀파일 불러오기\n",
    "codeBook = pd.read_excel('./data/codeBook_v3.xlsx')\n",
    "\n",
    "# 확인하기\n",
    "codeBook.head()"
   ]
  },
  {
   "attachments": {},
   "cell_type": "markdown",
   "metadata": {},
   "source": [
    "### 경찰청 (NPA_CL)"
   ]
  },
  {
   "cell_type": "code",
   "execution_count": null,
   "metadata": {},
   "outputs": [],
   "source": [
    "# 딕셔너리로 만들기\n",
    "npa_cl_code_dict = dict(zip(codeBook.loc[codeBook['컬럼명'] == 'NPA_CL']['코드값'].astype(str).tolist(), codeBook.loc[codeBook['컬럼명'] == 'NPA_CL']['코드명'].tolist()))\n",
    "\n",
    "# 확인하기\n",
    "npa_cl_code_dict"
   ]
  },
  {
   "cell_type": "code",
   "execution_count": null,
   "metadata": {},
   "outputs": [],
   "source": [
    "# 딕셔너리 적용하기\n",
    "df['NPA_CL'] = df['NPA_CL'].astype('str').map(npa_cl_code_dict)\n",
    "\n",
    "# 확인하기\n",
    "df['NPA_CL'].value_counts()"
   ]
  },
  {
   "attachments": {},
   "cell_type": "markdown",
   "metadata": {},
   "source": [
    "### 사건상태코드 (EVT_STAT_CD)"
   ]
  },
  {
   "cell_type": "code",
   "execution_count": null,
   "metadata": {},
   "outputs": [],
   "source": [
    "# 딕셔너리로 만들기\n",
    "evt_stat_code_dict = dict(zip(codeBook.loc[codeBook['컬럼명'] == 'EVT_STAT_CD']['코드값'].astype(str).tolist(), codeBook.loc[codeBook['컬럼명'] == 'EVT_STAT_CD']['코드명'].tolist()))\n",
    "\n",
    "# 확인하기\n",
    "evt_stat_code_dict"
   ]
  },
  {
   "cell_type": "code",
   "execution_count": null,
   "metadata": {},
   "outputs": [],
   "source": [
    "# 딕셔너리 적용하기\n",
    "df['EVT_STAT_CD'] = df['EVT_STAT_CD'].astype('str').map(evt_stat_code_dict)"
   ]
  },
  {
   "attachments": {},
   "cell_type": "markdown",
   "metadata": {},
   "source": [
    "### 사건종별코드 (EVT_CL_CD)"
   ]
  },
  {
   "cell_type": "code",
   "execution_count": null,
   "metadata": {},
   "outputs": [],
   "source": [
    "# 딕셔너리 생성하기\n",
    "evt_cl_code_dict = dict(zip(codeBook.loc[codeBook['컬럼명'] == 'EVT_CL_CD']['코드값'].astype(str).tolist(), codeBook.loc[codeBook['컬럼명'] == 'EVT_CL_CD']['코드명'].tolist()))\n",
    "\n",
    "# 확인하기\n",
    "evt_cl_code_dict"
   ]
  },
  {
   "cell_type": "code",
   "execution_count": null,
   "metadata": {},
   "outputs": [],
   "source": [
    "# 적용하기\n",
    "df['EVT_CL_CD'] = df['EVT_CL_CD'].astype('str').map(evt_cl_code_dict)"
   ]
  },
  {
   "attachments": {},
   "cell_type": "markdown",
   "metadata": {},
   "source": [
    "### 성별 (RPTER_SEX)"
   ]
  },
  {
   "cell_type": "code",
   "execution_count": null,
   "metadata": {},
   "outputs": [],
   "source": [
    "def sex_sub(n):\n",
    "    if n == 1:\n",
    "        return '남성'\n",
    "    elif n == 2:\n",
    "        return '여성'\n",
    "    else:\n",
    "        return '불상'"
   ]
  },
  {
   "cell_type": "code",
   "execution_count": null,
   "metadata": {},
   "outputs": [],
   "source": [
    "df['RPTER_SEX'] = df['RPTER_SEX'].map(sex_sub)\n",
    "\n",
    "# 확인하기\n",
    "df['RPTER_SEX'].value_counts()"
   ]
  },
  {
   "attachments": {},
   "cell_type": "markdown",
   "metadata": {},
   "source": [
    "## 컬럼명 변경"
   ]
  },
  {
   "cell_type": "code",
   "execution_count": null,
   "metadata": {},
   "outputs": [],
   "source": [
    "df.columns = ['접수부서', '접수완료일시', '경찰청구분', '사건상태', '사건종류', '신고자 성별', '발생지점', '발생지 위도', '발생지 경도', '동일사건여부']\n",
    "\n",
    "# 확인하기\n",
    "df.head()"
   ]
  },
  {
   "attachments": {},
   "cell_type": "markdown",
   "metadata": {},
   "source": [
    "## 파생변수 생성"
   ]
  },
  {
   "cell_type": "code",
   "execution_count": null,
   "metadata": {},
   "outputs": [],
   "source": [
    "df[\"연도\"] = df[\"접수완료일시\"].dt.year\n",
    "df[\"월\"] = df[\"접수완료일시\"].dt.month\n",
    "df['연월'] = df['접수완료일시'].map(lambda x : str(x)[:7])\n",
    "df[\"요일\"] = df[\"접수완료일시\"].dt.day_name()\n",
    "df[\"시간대\"] = df[\"접수완료일시\"].dt.hour\n",
    "df['일자'] = df['접수완료일시'].dt.date"
   ]
  },
  {
   "cell_type": "code",
   "execution_count": null,
   "metadata": {},
   "outputs": [],
   "source": [
    "# 정렬하기\n",
    "df = df.sort_values('접수완료일시')"
   ]
  },
  {
   "cell_type": "code",
   "execution_count": null,
   "metadata": {},
   "outputs": [],
   "source": [
    "# 요일 한국어로 바꾸기\n",
    "dayofweek_dict = {'Monday' : '월',\n",
    "                  'Tuesday' : '화',\n",
    "                  'Wednesday' : '수',\n",
    "                  'Thursday' : '목',\n",
    "                  'Friday' : '금',\n",
    "                  'Saturday' : '토',\n",
    "                  'Sunday' : '일'\n",
    "                  }\n",
    "\n",
    "df['요일'] = df['요일'].map(dayofweek_dict)"
   ]
  },
  {
   "cell_type": "code",
   "execution_count": null,
   "metadata": {},
   "outputs": [],
   "source": [
    "# 확인하기\n",
    "df.head()"
   ]
  },
  {
   "attachments": {},
   "cell_type": "markdown",
   "metadata": {},
   "source": [
    "## 접수부서 합치기"
   ]
  },
  {
   "cell_type": "code",
   "execution_count": null,
   "metadata": {},
   "outputs": [],
   "source": [
    "def dept_replace(x):\n",
    "    if '대전' in x:\n",
    "        return '대전청'\n",
    "    elif '세종' in x:\n",
    "        return '세종청'\n",
    "    else:\n",
    "        return '충남청'"
   ]
  },
  {
   "cell_type": "code",
   "execution_count": null,
   "metadata": {},
   "outputs": [],
   "source": [
    "df['접수부서'] = df['접수부서'].map(dept_replace)\n",
    "\n",
    "# 확인하기\n",
    "df['접수부서'].value_counts()"
   ]
  },
  {
   "attachments": {},
   "cell_type": "markdown",
   "metadata": {},
   "source": [
    "## 보이스피싱 데이터 가져오기"
   ]
  },
  {
   "cell_type": "code",
   "execution_count": null,
   "metadata": {},
   "outputs": [],
   "source": [
    "# 사건 종류가 보이스피싱인 데이터만 가져오기\n",
    "df = df[df['사건종류'] == '보이스피싱']"
   ]
  },
  {
   "cell_type": "code",
   "execution_count": null,
   "metadata": {},
   "outputs": [],
   "source": [
    "print(df.shape)\n",
    "df.head()"
   ]
  },
  {
   "cell_type": "code",
   "execution_count": null,
   "metadata": {},
   "outputs": [],
   "source": [
    "# 발생지 위도 없는 것들 없애기\n",
    "df = df.dropna(subset='발생지 위도')\n",
    "\n",
    "# 발생지점 없는 부분 삭제하기\n",
    "df_get_address = df[df['발생지점'].isnull()]\n",
    "\n",
    "# 확인하기\n",
    "df_get_address.shape"
   ]
  },
  {
   "attachments": {},
   "cell_type": "markdown",
   "metadata": {},
   "source": [
    "## Kakao API 사용하여 Reverse Geocoding 하기"
   ]
  },
  {
   "cell_type": "code",
   "execution_count": null,
   "metadata": {},
   "outputs": [],
   "source": [
    "# API 불러오는 함수\n",
    "def get_address(lon, lat):\n",
    "    url = f'https://dapi.kakao.com/v2/local/geo/coord2regioncode.json?x={lon}&y={lat}'\n",
    "    headers = {\"Authorization\": config.kakao_api_key}\n",
    "    api_json = requests.get(url, headers=headers)\n",
    "    full_address = json.loads(api_json.text)\n",
    "\n",
    "    return full_address\n",
    "\n",
    "# 역지오코딩 함수\n",
    "def reverse_geocode(lon, lat):\n",
    "    # json request\n",
    "    try:\n",
    "        json_req = get_address(lon, lat)\n",
    "        json_doc = json_req.get('documents')[0]\n",
    "        json_address = json_doc.get('address_name')\n",
    "    except:\n",
    "        json_address = np.nan\n",
    "\n",
    "    return json_address"
   ]
  },
  {
   "cell_type": "code",
   "execution_count": null,
   "metadata": {},
   "outputs": [],
   "source": [
    "# 함수 확인하기\n",
    "get_address(df_get_address['발생지 위도'][4743], df_get_address['발생지 경도'][4743])"
   ]
  },
  {
   "cell_type": "code",
   "execution_count": null,
   "metadata": {},
   "outputs": [],
   "source": [
    "# 적용하기\n",
    "df_get_address.loc['발생지점'] = df_get_address.apply(lambda row : reverse_geocode(row['발생지 위도'], row['발생지 경도']), axis=1)\n",
    "\n",
    "# 확인하기\n",
    "df_get_address.head()"
   ]
  },
  {
   "cell_type": "code",
   "execution_count": null,
   "metadata": {},
   "outputs": [],
   "source": [
    "# 여전히 안 불러와진 부분 삭제\n",
    "df = df.dropna(subset='발생지점')"
   ]
  },
  {
   "cell_type": "code",
   "execution_count": null,
   "metadata": {},
   "outputs": [],
   "source": [
    "# 다시 합치기\n",
    "df = pd.concat([df, df_get_address])"
   ]
  },
  {
   "attachments": {},
   "cell_type": "markdown",
   "metadata": {},
   "source": [
    "## 대전광역시, 충청남도, 세종특별자치시 데이터"
   ]
  },
  {
   "cell_type": "code",
   "execution_count": null,
   "metadata": {},
   "outputs": [],
   "source": [
    "df = df[df['발생지점'].str.contains(\"대전광역시|충청남도|세종특별자치시\")]\n",
    "df.shape"
   ]
  },
  {
   "cell_type": "code",
   "execution_count": 1,
   "metadata": {},
   "outputs": [],
   "source": [
    "# 발생지점 행정구역 파생변수 생성\n",
    "sigungu_list = []\n",
    "for idx in list(df.index):\n",
    "\n",
    "    # 세종특별자치시의 경우 읍면동을 행정구역으로 정의한다.\n",
    "    if df['발생지점'][idx].split(' ')[0] == '세종특별자치시':\n",
    "        a = df['발생지점'][idx].split(' ')[2]\n",
    "    \n",
    "    # 대전광역시, 충청남도의 경우 시군구를 행정구역으로 정의한다.\n",
    "    else:\n",
    "        a = df['발생지점'][idx].split(' ')[1]\n",
    "    \n",
    "    sigungu_list.append(a)\n",
    "\n",
    "# 파생변수에 입력\n",
    "df['발생시군구'] = sigungu_list\n",
    "\n",
    "# 오류 없는지 확인\n",
    "df['발생시군구'].isnull().sum()"
   ]
  },
  {
   "cell_type": "code",
   "execution_count": null,
   "metadata": {},
   "outputs": [],
   "source": [
    "# 시도 가져오기\n",
    "sido_list = []\n",
    "for idx in list(df.index):\n",
    "    a = df['발생지점'][idx].split(' ')[0]\n",
    "    \n",
    "    sido_list.append(a)\n",
    "\n",
    "# 파생변수에 입력\n",
    "df['발생시도'] = sido_list\n",
    "\n",
    "# 오류 없는지 확인\n",
    "df['발생시군구'].isnull().sum()"
   ]
  },
  {
   "attachments": {},
   "cell_type": "markdown",
   "metadata": {},
   "source": [
    "# 보이스피싱 피해, 인구 전처리"
   ]
  },
  {
   "attachments": {},
   "cell_type": "markdown",
   "metadata": {},
   "source": [
    "## 인구 데이터"
   ]
  },
  {
   "cell_type": "code",
   "execution_count": null,
   "metadata": {},
   "outputs": [],
   "source": [
    "file_path_population = f'{file_path}20_22_population/'\n",
    "df_ppl_cn = pd.read_csv(f'{file_path_population}chungnam_population_20_22.csv', encoding='cp949')\n",
    "df_ppl_dj = pd.read_csv(f'{file_path_population}daejeon_population_20_22.csv', encoding='cp949')\n",
    "df_ppl_sj = pd.read_csv(f'{file_path_population}sejong_population_20_22.csv', encoding='cp949')"
   ]
  },
  {
   "cell_type": "code",
   "execution_count": null,
   "metadata": {},
   "outputs": [],
   "source": [
    "# 확인하기\n",
    "display(df_ppl_cn.head(), df_ppl_dj.head(), df_ppl_sj.head())"
   ]
  },
  {
   "attachments": {},
   "cell_type": "markdown",
   "metadata": {},
   "source": [
    "### 충청남도 인구 데이터 전처리"
   ]
  },
  {
   "cell_type": "code",
   "execution_count": null,
   "metadata": {},
   "outputs": [],
   "source": [
    "# 가져올 컬럼 리스트 생성\n",
    "col = [0]\n",
    "for n in range(1, 40, 13):\n",
    "    col.append(n)\n",
    "\n",
    "# 가져올 충청남도 데이터 row 리스트 생성\n",
    "row_cn = [1]\n",
    "for n in range(4, 18):\n",
    "    row_cn.append(n)"
   ]
  },
  {
   "cell_type": "code",
   "execution_count": null,
   "metadata": {},
   "outputs": [],
   "source": [
    "df_ppl_cn = df_ppl_cn.iloc[row_cn, col]\n",
    "df_ppl_cn['행정구역'] = df_ppl_cn['행정구역'].str.split(' ').str[1]\n",
    "df_ppl_cn.columns = ['행정구역', '2020 인구수', '2021 인구수', '2022 인구수']\n",
    "\n",
    "# 확인하기\n",
    "df_ppl_cn"
   ]
  },
  {
   "attachments": {},
   "cell_type": "markdown",
   "metadata": {},
   "source": [
    "### 대전광역시 인구 데이터 전처리"
   ]
  },
  {
   "cell_type": "code",
   "execution_count": null,
   "metadata": {},
   "outputs": [],
   "source": [
    "# 가져올 대전광역시 데이터 row 리스트 생성\n",
    "row_dj = []\n",
    "for n in range(1, 6):\n",
    "    row_dj.append(n)"
   ]
  },
  {
   "cell_type": "code",
   "execution_count": null,
   "metadata": {},
   "outputs": [],
   "source": [
    "df_ppl_dj = df_ppl_dj.iloc[row_dj, col]\n",
    "df_ppl_dj['행정구역'] = df_ppl_dj['행정구역'].str.split(' ').str[1]\n",
    "df_ppl_dj.columns = ['행정구역', '2020 인구수', '2021 인구수', '2022 인구수']\n",
    "\n",
    "# 확인하기\n",
    "df_ppl_dj"
   ]
  },
  {
   "attachments": {},
   "cell_type": "markdown",
   "metadata": {},
   "source": [
    "### 세종특별자치시 인구 데이터 전처리"
   ]
  },
  {
   "cell_type": "code",
   "execution_count": null,
   "metadata": {},
   "outputs": [],
   "source": [
    "# 가져올 세종특별자치시 데이터 row 리스트 생성\n",
    "row_sj = []\n",
    "for n in range(1, 23):\n",
    "    row_sj.append(n)"
   ]
  },
  {
   "cell_type": "code",
   "execution_count": null,
   "metadata": {},
   "outputs": [],
   "source": [
    "df_ppl_sj = df_ppl_sj.iloc[row_sj, col]\n",
    "df_ppl_sj['행정구역'] = df_ppl_sj['행정구역'].str.split(' ').str[2].str.split('(').str[0]\n",
    "df_ppl_sj.columns = ['행정구역', '2020 인구수', '2021 인구수', '2022 인구수']\n",
    "df_ppl_sj = df_ppl_sj.drop(index=[14, 19])\n",
    "\n",
    "# 확인하기\n",
    "df_ppl_sj"
   ]
  },
  {
   "attachments": {},
   "cell_type": "markdown",
   "metadata": {},
   "source": [
    "## 보이스피싱 데이터"
   ]
  },
  {
   "cell_type": "code",
   "execution_count": null,
   "metadata": {},
   "outputs": [],
   "source": [
    "# 보이스피싱 발생시도별로 나누기\n",
    "df_vp_cn = df[df['발생시도'] == '충청남도']\n",
    "df_vp_dj = df[df['발생시도'] == '대전광역시']\n",
    "df_vp_sj = df[df['발생시도'] == '세종시']"
   ]
  },
  {
   "cell_type": "code",
   "execution_count": null,
   "metadata": {},
   "outputs": [],
   "source": [
    "# 확인하기\n",
    "display(df_vp_cn.head(), df_vp_dj.head(), df_vp_sj.head())"
   ]
  },
  {
   "attachments": {},
   "cell_type": "markdown",
   "metadata": {},
   "source": [
    "### 충청남도 보이스피싱 데이터 전처리"
   ]
  },
  {
   "cell_type": "code",
   "execution_count": null,
   "metadata": {},
   "outputs": [],
   "source": [
    "df_vp_cn = df_vp_cn.groupby(['발생시군구', '연도'])[['경찰청구분']].count()\n",
    "df_vp_cn = df_vp_cn.unstack()\n",
    "df_vp_cn = df_vp_cn.reset_index()\n",
    "df_vp_cn = df_vp_cn.iloc[:, :4]\n",
    "\n",
    "# 컬럼명 변경\n",
    "df_vp_cn.columns = ['행정구역', '2020 보이스피싱 신고 건수', '2021 보이스피싱 신고 건수', '2022 보이스피싱 신고 건수']"
   ]
  },
  {
   "cell_type": "code",
   "execution_count": null,
   "metadata": {},
   "outputs": [],
   "source": [
    "# 확인하기\n",
    "df_vp_cn"
   ]
  },
  {
   "attachments": {},
   "cell_type": "markdown",
   "metadata": {},
   "source": [
    "### 대전광역시 보이스피싱 데이터 전처리"
   ]
  },
  {
   "cell_type": "code",
   "execution_count": null,
   "metadata": {},
   "outputs": [],
   "source": [
    "df_vp_dj = df_vp_dj.groupby(['발생시군구', '연도'])[['경찰청구분']].count()\n",
    "df_vp_dj = df_vp_dj.unstack()\n",
    "df_vp_dj = df_vp_dj.reset_index()\n",
    "df_vp_dj = df_vp_dj.iloc[:, :4]\n",
    "\n",
    "# 컬럼명 변경\n",
    "df_vp_dj.columns = ['행정구역', '2020 보이스피싱 신고 건수', '2021 보이스피싱 신고 건수', '2022 보이스피싱 신고 건수']"
   ]
  },
  {
   "cell_type": "code",
   "execution_count": null,
   "metadata": {},
   "outputs": [],
   "source": [
    "# 확인하기\n",
    "df_vp_dj"
   ]
  },
  {
   "attachments": {},
   "cell_type": "markdown",
   "metadata": {},
   "source": [
    "### 세종특별자치시 보이스피싱 데이터 전처리"
   ]
  },
  {
   "cell_type": "code",
   "execution_count": null,
   "metadata": {},
   "outputs": [],
   "source": [
    "# 조치원읍을 제외한 다른 주소들에 괄호 등 불필요한 요소 제거\n",
    "df_vp_sj.loc[df_vp_sj['발생시군구'] != '조치원읍', '발생시군구'] = df_vp_sj.loc[df_vp_sj['발생시군구'] != '조치원읍', '발생시군구'].apply(lambda x : x[:3])\n",
    "\n",
    "df_vp_sj = df_vp_sj.groupby(['발생시군구', '연도'])[['경찰청구분']].count()\n",
    "df_vp_sj = df_vp_sj.unstack()\n",
    "df_vp_sj = df_vp_sj.reset_index()\n",
    "df_vp_sj = df_vp_sj.iloc[:, :4]\n",
    "\n",
    "# 결측치가 존재하므로 제거\n",
    "df_vp_sj = df_vp_sj.dropna()\n",
    "\n",
    "# 컬럼명 변경\n",
    "df_vp_sj.columns = ['행정구역', '2020 보이스피싱 신고 건수', '2021 보이스피싱 신고 건수', '2022 보이스피싱 신고 건수']"
   ]
  },
  {
   "cell_type": "code",
   "execution_count": null,
   "metadata": {},
   "outputs": [],
   "source": [
    "# 확인하기\n",
    "df_vp_sj"
   ]
  },
  {
   "attachments": {},
   "cell_type": "markdown",
   "metadata": {},
   "source": [
    "## 데이터셋 합치기\n",
    "* 정석 방식으로 연도라는 컬럼을 만들어서 코드로 전처리를 진행하려 하였다.  \n",
    "* 시간관계상 여기까지 전처리한 부분을 merge하여 저장하고 엑셀이나 구글시트를 사용하여 위 방식을 빠르게 진행하였다. \n",
    "* 연도 컬럼을 만들고 인구수 데이터는 인구수 데이터끼리, 보이스피싱 신고 건수 데이터는 보이스피싱 신고 건수 끼리 각각 하나의 컬럼으로 합쳐주었다."
   ]
  },
  {
   "attachments": {},
   "cell_type": "markdown",
   "metadata": {},
   "source": [
    "### 충청남도 데이터셋"
   ]
  },
  {
   "cell_type": "code",
   "execution_count": null,
   "metadata": {},
   "outputs": [],
   "source": [
    "df_cn = pd.merge(df_vp_cn, df_ppl_cn, on='행정구역', how='inner')\n",
    "\n",
    "# 확인하기\n",
    "df_cn"
   ]
  },
  {
   "cell_type": "code",
   "execution_count": null,
   "metadata": {},
   "outputs": [],
   "source": [
    "# 저장\n",
    "df_cn.to_csv(f'{file_path}충청남도_20_22_초안.csv')"
   ]
  },
  {
   "cell_type": "code",
   "execution_count": null,
   "metadata": {},
   "outputs": [],
   "source": [
    "# 엑셀이나 구글 시트를 사용하여 전처리 마무리한 파일 불러오기\n",
    "df_cn = pd.read_csv(f'{file_path}충청남도_20_22.csv')\n",
    "\n",
    "# 확인하기\n",
    "df_cn"
   ]
  },
  {
   "attachments": {},
   "cell_type": "markdown",
   "metadata": {},
   "source": [
    "### 대전광역시 데이터셋"
   ]
  },
  {
   "cell_type": "code",
   "execution_count": null,
   "metadata": {},
   "outputs": [],
   "source": [
    "df_dj = pd.merge(df_vp_dj, df_ppl_dj, on='행정구역', how='inner')\n",
    "\n",
    "# 확인하기\n",
    "df_dj"
   ]
  },
  {
   "cell_type": "code",
   "execution_count": null,
   "metadata": {},
   "outputs": [],
   "source": [
    "# 저장\n",
    "df_dj.to_csv(f'{file_path}대전광역시_20_22_초안.csv')"
   ]
  },
  {
   "cell_type": "code",
   "execution_count": null,
   "metadata": {},
   "outputs": [],
   "source": [
    "# 엑셀이나 구글 시트를 사용하여 전처리 마무리한 파일 불러오기\n",
    "df_dj = pd.read_csv(f'{file_path}대전광역시_20_22.csv')\n",
    "\n",
    "# 확인하기\n",
    "df_dj"
   ]
  },
  {
   "attachments": {},
   "cell_type": "markdown",
   "metadata": {},
   "source": [
    "### 세종특별자치시 데이터셋"
   ]
  },
  {
   "cell_type": "code",
   "execution_count": null,
   "metadata": {},
   "outputs": [],
   "source": [
    "df_sj = pd.merge(df_vp_sj, df_ppl_sj, on='행정구역', how='inner')\n",
    "\n",
    "# 확인하기\n",
    "df_sj"
   ]
  },
  {
   "cell_type": "code",
   "execution_count": null,
   "metadata": {},
   "outputs": [],
   "source": [
    "# 저장\n",
    "df_sj.to_csv(f'{file_path}세종특별자치시_20_22_초안.csv')"
   ]
  },
  {
   "cell_type": "code",
   "execution_count": null,
   "metadata": {},
   "outputs": [],
   "source": [
    "# 엑셀이나 구글 시트를 사용하여 전처리 마무리한 파일 불러오기\n",
    "df_sj = pd.read_csv(f'{file_path}세종특별자치시_20_22.csv')\n",
    "\n",
    "# 확인하기\n",
    "df_sj"
   ]
  },
  {
   "attachments": {},
   "cell_type": "markdown",
   "metadata": {},
   "source": [
    "## 인구수 대비 보이스피싱 신고 비율 구하기"
   ]
  },
  {
   "cell_type": "code",
   "execution_count": null,
   "metadata": {},
   "outputs": [],
   "source": [
    "# 데이터셋 확인하기\n",
    "display(df_cn.head(), df_dj.head(), df_sj.head())"
   ]
  },
  {
   "cell_type": "code",
   "execution_count": null,
   "metadata": {},
   "outputs": [],
   "source": [
    "# 인구수 데이터에서 ',' 삭제하기\n",
    "df_cn['인구수'] = df_cn['인구수'].str.replace(',', '')\n",
    "df_dj['인구수'] = df_dj['인구수'].str.replace(',', '')\n",
    "df_sj['인구수'] = df_sj['인구수'].str.replace(',', '')\n",
    "\n",
    "# 모든 수치형 데이터 integer로 타입 변경\n",
    "df_cn['인구수'] = df_cn['인구수'].astype('int')\n",
    "df_dj['인구수'] = df_dj['인구수'].astype('int')\n",
    "df_sj['인구수'] = df_sj['인구수'].astype('int')\n",
    "\n",
    "df_cn['보이스피싱 신고 건수'] = df_cn['보이스피싱 신고 건수'].astype('int')\n",
    "df_dj['보이스피싱 신고 건수'] = df_dj['보이스피싱 신고 건수'].astype('int')\n",
    "df_sj['보이스피싱 신고 건수'] = df_sj['보이스피싱 신고 건수'].astype('int')"
   ]
  },
  {
   "cell_type": "code",
   "execution_count": null,
   "metadata": {},
   "outputs": [],
   "source": [
    "# 비율 계산하기\n",
    "df_cn['보이스피싱 신고 비율'] = df_cn['보이스피싱 신고 건수']/df_cn['인구수']*100\n",
    "df_dj['보이스피싱 신고 비율'] = df_dj['보이스피싱 신고 건수']/df_dj['인구수']*100\n",
    "df_sj['보이스피싱 신고 비율'] = df_sj['보이스피싱 신고 건수']/df_sj['인구수']*100"
   ]
  },
  {
   "cell_type": "code",
   "execution_count": null,
   "metadata": {},
   "outputs": [],
   "source": [
    "# 컬럼 순서 정렬\n",
    "df_cn = df_cn[['행정구역', '보이스피싱 신고 건수', '인구수', '보이스피싱 신고 비율', '연도']]\n",
    "df_dj = df_dj[['행정구역', '보이스피싱 신고 건수', '인구수', '보이스피싱 신고 비율', '연도']]\n",
    "df_sj = df_sj[['행정구역', '보이스피싱 신고 건수', '인구수', '보이스피싱 신고 비율', '연도']]"
   ]
  },
  {
   "cell_type": "code",
   "execution_count": null,
   "metadata": {},
   "outputs": [],
   "source": [
    "# 확인하기\n",
    "display(df_cn.head(), df_dj.head(), df_sj.head())"
   ]
  },
  {
   "attachments": {},
   "cell_type": "markdown",
   "metadata": {},
   "source": [
    "# 지역별 EDA"
   ]
  },
  {
   "cell_type": "code",
   "execution_count": null,
   "metadata": {},
   "outputs": [],
   "source": [
    "# 팔레트 색 지정\n",
    "colors = ['#9AC4DA', '#6B9EC6', '#3A566B']\n",
    "sns.set_palette(sns.color_palette(colors))"
   ]
  },
  {
   "attachments": {},
   "cell_type": "markdown",
   "metadata": {},
   "source": [
    "## 충청남도"
   ]
  },
  {
   "cell_type": "code",
   "execution_count": null,
   "metadata": {},
   "outputs": [],
   "source": [
    "plt.figure(figsize=(10, 15))\n",
    "\n",
    "plt.subplot(3, 1, 1)\n",
    "sns.barplot(data=df_cn, x='행정구역', y='보이스피싱 신고 비율', hue='연도')\n",
    "plt.title('충청남도 행정구열별 인구수 대비 보이스피싱 신고 비율', fontsize = 10)\n",
    "\n",
    "plt.subplot(3, 1, 2)\n",
    "sns.barplot(data=df_cn, x='행정구역', y='보이스피싱 신고 건수', hue='연도')\n",
    "plt.title('충청남도 행정구열별 보이스피싱 신고 건수', fontsize = 10)\n",
    "\n",
    "plt.subplot(3, 1, 3)\n",
    "sns.barplot(data=df_cn, x='행정구역', y='인구수', hue='연도')\n",
    "plt.title('충청남도 행정구열별 인구수', fontsize = 10);"
   ]
  },
  {
   "attachments": {},
   "cell_type": "markdown",
   "metadata": {},
   "source": [
    "## 대전광역시"
   ]
  },
  {
   "cell_type": "code",
   "execution_count": null,
   "metadata": {},
   "outputs": [],
   "source": [
    "plt.figure(figsize=(18, 5))\n",
    "\n",
    "plt.subplot(1, 3, 1)\n",
    "sns.barplot(data=df_dj, x='행정구역', y='보이스피싱 신고 비율', hue='연도')\n",
    "plt.title('대전광역시 행정구열별 인구수 대비 보이스피싱 신고 비율', fontsize = 10)\n",
    "\n",
    "plt.subplot(1, 3, 2)\n",
    "sns.barplot(data=df_dj, x='행정구역', y='보이스피싱 신고 건수', hue='연도')\n",
    "plt.title('대전광역시 행정구열별 보이스피싱 신고 건수', fontsize = 10)\n",
    "\n",
    "plt.subplot(1, 3, 3)\n",
    "sns.barplot(data=df_dj, x='행정구역', y='인구수', hue='연도')\n",
    "plt.title('대전광역시 행정구열별 인구수', fontsize = 10);"
   ]
  },
  {
   "attachments": {},
   "cell_type": "markdown",
   "metadata": {},
   "source": [
    "## 세종특별자치시"
   ]
  },
  {
   "cell_type": "code",
   "execution_count": null,
   "metadata": {},
   "outputs": [],
   "source": [
    "plt.figure(figsize=(15, 15))\n",
    "\n",
    "plt.subplot(3, 1, 1)\n",
    "sns.barplot(data=df_sj, x='행정구역', y='보이스피싱 신고 비율', hue='연도')\n",
    "plt.title('세종특별자치시 행정구열별 인구수 대비 보이스피싱 신고 비율', fontsize = 10)\n",
    "\n",
    "plt.subplot(3, 1, 2)\n",
    "sns.barplot(data=df_sj, x='행정구역', y='보이스피싱 신고 건수', hue='연도')\n",
    "plt.title('세종특별자치시 행정구열별 보이스피싱 신고 건수', fontsize = 10)\n",
    "\n",
    "plt.subplot(3, 1, 3)\n",
    "sns.barplot(data=df_sj, x='행정구역', y='인구수', hue='연도')\n",
    "plt.title('세종특별자치시 행정구열별 인구수', fontsize = 10);"
   ]
  },
  {
   "attachments": {},
   "cell_type": "markdown",
   "metadata": {},
   "source": [
    "# 지도 시각화"
   ]
  },
  {
   "attachments": {},
   "cell_type": "markdown",
   "metadata": {},
   "source": [
    "## 데이터 전처리"
   ]
  },
  {
   "attachments": {},
   "cell_type": "markdown",
   "metadata": {},
   "source": [
    "### 충청남도"
   ]
  },
  {
   "cell_type": "code",
   "execution_count": null,
   "metadata": {},
   "outputs": [],
   "source": [
    "df_cn_20 = df_cn[df_cn['연도'] == '2020'][['행정구역', '보이스피싱 신고 비율']]\n",
    "df_cn_21 = df_cn[df_cn['연도'] == '2021'][['행정구역', '보이스피싱 신고 비율']]\n",
    "df_cn_22 = df_cn[df_cn['연도'] == '2022'][['행정구역', '보이스피싱 신고 비율']]"
   ]
  },
  {
   "cell_type": "code",
   "execution_count": null,
   "metadata": {},
   "outputs": [],
   "source": [
    "# 확인하기\n",
    "display(df_cn_20.head(), df_cn_21.head(), df_cn_22.head())"
   ]
  },
  {
   "attachments": {},
   "cell_type": "markdown",
   "metadata": {},
   "source": [
    "### 대전광역시"
   ]
  },
  {
   "cell_type": "code",
   "execution_count": null,
   "metadata": {},
   "outputs": [],
   "source": [
    "df_dj_20 = df_dj[df_dj['연도'] == '2020'][['행정구역', '보이스피싱 신고 비율']]\n",
    "df_dj_21 = df_dj[df_dj['연도'] == '2021'][['행정구역', '보이스피싱 신고 비율']]\n",
    "df_dj_22 = df_dj[df_dj['연도'] == '2022'][['행정구역', '보이스피싱 신고 비율']]"
   ]
  },
  {
   "cell_type": "code",
   "execution_count": null,
   "metadata": {},
   "outputs": [],
   "source": [
    "# 확인하기\n",
    "display(df_dj_20.head(), df_dj_21.head(), df_dj_22.head())"
   ]
  },
  {
   "attachments": {},
   "cell_type": "markdown",
   "metadata": {},
   "source": [
    "### 세종특별자치시"
   ]
  },
  {
   "cell_type": "code",
   "execution_count": null,
   "metadata": {},
   "outputs": [],
   "source": [
    "df_sj_20 = df_sj[df_sj['연도'] == '2020'][['행정구역', '보이스피싱 신고 비율']]\n",
    "df_sj_21 = df_sj[df_sj['연도'] == '2021'][['행정구역', '보이스피싱 신고 비율']]\n",
    "df_sj_22 = df_sj[df_sj['연도'] == '2022'][['행정구역', '보이스피싱 신고 비율']]"
   ]
  },
  {
   "cell_type": "code",
   "execution_count": null,
   "metadata": {},
   "outputs": [],
   "source": [
    "# 확인하기\n",
    "display(df_sj_20.head(), df_sj_21.head(), df_sj_22.head())"
   ]
  },
  {
   "cell_type": "code",
   "execution_count": null,
   "metadata": {},
   "outputs": [],
   "source": [
    "# folium 사용시 세종특별자치시는 이름 전에 '세종특별자치시 세종시'가 있어야 인식됨\n",
    "for x in [df_sj_20, df_sj_21, df_sj_22]:\n",
    "    for idx in list(x.index):\n",
    "        a = x.loc[idx, '지역별']\n",
    "        x.loc[idx, '지역별'] = f'세종특별자치시 세종시 {a}'"
   ]
  },
  {
   "attachments": {},
   "cell_type": "markdown",
   "metadata": {},
   "source": [
    "## choropleth 시각화"
   ]
  },
  {
   "cell_type": "code",
   "execution_count": null,
   "metadata": {},
   "outputs": [],
   "source": [
    "# choropleth에 필요한 geojson 파일 가져오기\n",
    "# 충남, 대전은 시군구 파일 사용\n",
    "cn_dj_geo = json.load(open(f'{file_path}geojson/TL_SCCO_SIG.json', encoding='utf-8'))\n",
    "# 세종은 세종특별자치시 읍면동 파일 사용\n",
    "sj_geo = json.load(open(f'{file_path}geojson/hangjeongdong_세종특별자치시.geojson', encoding='utf-8'))"
   ]
  },
  {
   "cell_type": "code",
   "execution_count": 2,
   "metadata": {},
   "outputs": [],
   "source": [
    "html_path = './folium_html/'"
   ]
  },
  {
   "attachments": {},
   "cell_type": "markdown",
   "metadata": {},
   "source": [
    "### 충청남도"
   ]
  },
  {
   "cell_type": "code",
   "execution_count": null,
   "metadata": {},
   "outputs": [],
   "source": [
    "cn_20_m = folium.Map(\n",
    "          location=[36.5184, 126.8000],\n",
    "          zoom_start=9\n",
    ")\n",
    "\n",
    "folium.GeoJson(\n",
    "    cn_dj_geo,\n",
    "    name='SIG_KOR_NM'\n",
    ").add_to(cn_20_m)\n",
    "\n",
    "cn_20_m.choropleth(geo_data=cn_dj_geo,\n",
    "                   data=df_cn_20, \n",
    "                   columns = ['지역별', '보이스피싱 신고 비율'],\n",
    "                   fill_color='YlOrRd',\n",
    "                   fill_opacity=0.5,\n",
    "                   line_opacity=0.2,\n",
    "                   key_on='properties.SIG_KOR_NM',\n",
    "                   legend_name=\"충청남도 2020 보이스피싱 신고 비율\"\n",
    "                   )\n",
    "\n",
    "cn_20_m.save(f'{html_path}cn_20.html')"
   ]
  },
  {
   "attachments": {},
   "cell_type": "markdown",
   "metadata": {},
   "source": [
    "### 대전광역시"
   ]
  },
  {
   "cell_type": "code",
   "execution_count": null,
   "metadata": {},
   "outputs": [],
   "source": [
    "dj_20_m = folium.Map(\n",
    "          location=[36.3504, 127.3845],\n",
    "          zoom_start=11\n",
    ")\n",
    "\n",
    "folium.GeoJson(\n",
    "    cn_dj_geo,\n",
    "    name='SIG_KOR_NM'\n",
    ").add_to(dj_20_m)\n",
    "\n",
    "dj_20_m.choropleth(geo_data=cn_dj_geo,\n",
    "                   data=df_dj_20, \n",
    "                   columns = ['지역별', '보이스피싱 신고 비율'],\n",
    "                   fill_color='YlOrRd',\n",
    "                   fill_opacity=0.5,\n",
    "                   line_opacity=0.2,\n",
    "                   key_on='properties.SIG_KOR_NM',\n",
    "                   legend_name=\"대전광역시 2020 보이스피싱 신고 비율\"\n",
    "                   )\n",
    "\n",
    "dj_20_m.save('./folium_html/dj_20.html')"
   ]
  }
 ],
 "metadata": {
  "kernelspec": {
   "display_name": "base",
   "language": "python",
   "name": "python3"
  },
  "language_info": {
   "codemirror_mode": {
    "name": "ipython",
    "version": 3
   },
   "file_extension": ".py",
   "mimetype": "text/x-python",
   "name": "python",
   "nbconvert_exporter": "python",
   "pygments_lexer": "ipython3",
   "version": "3.9.15"
  },
  "orig_nbformat": 4,
  "vscode": {
   "interpreter": {
    "hash": "57628bd7b30be717ddf5fb05a81a4af65f7722553ad701187253afc7f8a6f58e"
   }
  }
 },
 "nbformat": 4,
 "nbformat_minor": 2
}
